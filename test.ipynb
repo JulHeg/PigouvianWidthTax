{
 "cells": [
  {
   "cell_type": "code",
   "execution_count": 13,
   "metadata": {},
   "outputs": [
    {
     "name": "stdout",
     "output_type": "stream",
     "text": [
      "[0 0 0 0 0 0 0 0 0 1]\n",
      "[ 0  3  4  7  8  9 10 12 18  0]\n"
     ]
    }
   ],
   "source": [
    "import numpy as np\n",
    "xy = np.random.rand(20,20)\n",
    "np.where(xy > 0.5)[0]\n",
    "# Get the leftmost pixel values over the threshold\n",
    "n_pixels = 10\n",
    "x_index = np.where(xy > 0.5)[0][:n_pixels]\n",
    "y_index = np.where(xy > 0.5)[1][:n_pixels]\n",
    "print(x_index)\n",
    "print(y_index)\n",
    "pixel_values = xy[x_index, y_index]"
   ]
  },
  {
   "cell_type": "code",
   "execution_count": 10,
   "metadata": {},
   "outputs": [
    {
     "data": {
      "text/plain": [
       "array([ 0,  0,  0,  0,  0,  0,  0,  0,  0,  0,  0,  0,  0,  1,  1,  1,  1,\n",
       "        1,  1,  1,  1,  2,  2,  2,  2,  2,  2,  2,  2,  3,  3,  3,  3,  3,\n",
       "        3,  3,  3,  3,  3,  4,  4,  4,  4,  4,  4,  4,  4,  4,  4,  5,  5,\n",
       "        5,  5,  5,  5,  5,  5,  5,  6,  6,  6,  6,  6,  6,  6,  6,  6,  6,\n",
       "        7,  7,  7,  7,  7,  7,  7,  7,  7,  7,  7,  7,  8,  8,  8,  8,  8,\n",
       "        8,  9,  9,  9,  9,  9,  9,  9,  9, 10, 10, 10, 10, 10, 10, 10, 10,\n",
       "       10, 10, 10, 10, 11, 11, 11, 11, 11, 11, 11, 11, 11, 11, 11, 12, 12,\n",
       "       12, 12, 12, 12, 12, 12, 12, 12, 13, 13, 13, 13, 13, 13, 13, 14, 14,\n",
       "       14, 14, 14, 14, 14, 14, 14, 14, 14, 14, 15, 15, 15, 15, 15, 15, 15,\n",
       "       16, 16, 16, 16, 16, 16, 16, 16, 16, 17, 17, 17, 17, 17, 17, 17, 17,\n",
       "       17, 18, 18, 18, 18, 18, 18, 18, 18, 18, 18, 18, 18, 18, 18, 18, 19,\n",
       "       19, 19, 19, 19, 19, 19, 19, 19, 19, 19, 19, 19, 19, 19, 19],\n",
       "      dtype=int64)"
      ]
     },
     "execution_count": 10,
     "metadata": {},
     "output_type": "execute_result"
    }
   ],
   "source": []
  },
  {
   "cell_type": "code",
   "execution_count": 11,
   "metadata": {},
   "outputs": [
    {
     "data": {
      "text/plain": [
       "array([ 1,  3,  4,  7, 11, 12, 13, 14, 15, 16, 17, 18, 19,  2,  3,  5, 14,\n",
       "       15, 16, 17, 19,  2,  3,  7,  8, 11, 14, 16, 17,  0,  5,  6,  8,  9,\n",
       "       11, 12, 13, 14, 19,  0,  4,  5,  6,  8, 11, 12, 14, 15, 18,  0,  1,\n",
       "        6,  8,  9, 11, 13, 14, 19,  0,  3,  6,  8, 10, 11, 12, 13, 16, 19,\n",
       "        1,  2,  3,  4,  7,  9, 11, 12, 14, 15, 18, 19,  2,  3,  8, 16, 17,\n",
       "       18,  1,  6, 11, 12, 13, 14, 15, 17,  0,  1,  2,  3,  4,  6,  8, 11,\n",
       "       12, 15, 18, 19,  1,  5,  6,  7,  9, 11, 13, 14, 15, 17, 19,  1,  2,\n",
       "        4,  5,  7,  8, 10, 13, 14, 17,  2,  4,  5,  8,  9, 11, 12,  1,  2,\n",
       "        3,  5,  7,  8,  9, 10, 11, 15, 16, 19,  5,  8,  9, 10, 13, 14, 19,\n",
       "        0,  1,  3, 13, 14, 15, 17, 18, 19,  1,  5,  6,  9, 13, 14, 15, 16,\n",
       "       19,  1,  2,  4,  5,  7,  8,  9, 10, 11, 12, 14, 15, 16, 17, 18,  0,\n",
       "        1,  3,  5,  7,  9, 10, 11, 12, 13, 14, 15, 16, 17, 18, 19],\n",
       "      dtype=int64)"
      ]
     },
     "execution_count": 11,
     "metadata": {},
     "output_type": "execute_result"
    }
   ],
   "source": [
    "np.where(xy > 0.5)[1]"
   ]
  },
  {
   "cell_type": "code",
   "execution_count": null,
   "metadata": {},
   "outputs": [],
   "source": [
    "import numpy as np\n",
    "import tofpipe\n",
    "import matplotlib.pyplot as plt\n",
    "import time\n",
    "\n",
    "\n",
    "FREQ0 = 80320000\n",
    "temp0 = 20\n",
    "FREQ1 = 60240000\n",
    "temp1 = 20\n",
    "\n",
    "# The amount of pixels for a single image\n",
    "# the library also defines two constants:\n",
    "#  tofpipe.HVGA and tofpipe.VGA\n",
    "\n",
    "FRAME_LEN = tofpipe.HVGA\n",
    "\n",
    "# only needs to be constructed once with params\n",
    "pipeline_2 = tofpipe.SingleAlgorithm(FREQ0, frame_len=FRAME_LEN)\n",
    "\n",
    "# use the follwing for 2 frequency (8 phase) algorithm:\n",
    "# pipeline = tofpipe.DualAlgorithm(FREQ0, FREQ1, frame_len=FRAME_LEN)\n",
    "\n",
    "# Setup Camera\n",
    "\n",
    "start_time = time.time()\n",
    "camera = tofpipe.Camera()\n",
    "camera.open()\n",
    "camera.current_usecase = camera.usecases[0] #4 frames, 80.32MHz\n",
    "\n",
    "print('Ready to take clean plate')\n",
    "# Ask for user input\n",
    "input()\n",
    "# Get raw frames\n",
    "camera.start()\n",
    "clean_plate = camera.grab_raw()\n",
    "camera.stop()\n",
    "\n",
    "while True:\n",
    "    print(\"Taking image\")\n",
    "    # Get raw frames\n",
    "    camera.start()\n",
    "    raw_frames_2 = camera.grab_raw()\n",
    "    camera.stop()\n",
    "\n",
    "    pipeline = tofpipe.SingleAlgorithm(FREQ0, frame_len=FRAME_LEN)\n",
    "    pipeline.run(clean_plate[1:, 1:, :].reshape(4,-1))\n",
    "    amplitude_1 = pipeline.amplitude.reshape(240,640)\n",
    "    phase_1 = pipeline.phase.reshape(240,640)\n",
    "    pipeline = tofpipe.SingleAlgorithm(FREQ0, frame_len=FRAME_LEN)\n",
    "    pipeline.run(raw_frames_2[1:, 1:, :].reshape(4,-1))\n",
    "    amplitude = pipeline.amplitude.reshape(240,640)\n",
    "    phase = pipeline.phase.reshape(240,640)\n",
    "    print('min phase', np.min(phase))\n",
    "    print('max phase', np.max(phase))\n",
    "\n",
    "    car_cutoff = 100\n",
    "    car_silhouette = np.abs(amplitude_1 - amplitude) > car_cutoff\n",
    "\n",
    "    # Calculate the width and height of the silhouette\n",
    "    # minimum index of a 1\n",
    "    if np.sum(car_silhouette) > 0:\n",
    "        \n",
    "        # Get the dimension of the bounding box of the silhoutte\n",
    "        min_width = np.min(np.where(car_silhouette == 1)[0])\n",
    "        max_width = np.max(np.where(car_silhouette == 1)[0])\n",
    "        min_height = np.min(np.where(car_silhouette == 1)[1])\n",
    "        max_height = np.max(np.where(car_silhouette == 1)[1])\n",
    "        width = max_width - min_width\n",
    "        height = max_height - min_height\n",
    "        print(\"Width: {}, Height: {}\".format(width, height))\n",
    "        \n",
    "        # Get the average distance for the outermost couple of pixels to the left and right.\n",
    "        n_pixels = min(10, np.sum(car_silhouette))\n",
    "        average_left_phase = np.mean(phase[np.where(car_silhouette == 1)[0][:n_pixels], np.where(car_silhouette == 1)[1][:n_pixels]])\n",
    "        average_right_phase = np.mean(phase[np.where(car_silhouette == 1)[0][-n_pixels:], np.where(car_silhouette == 1)[1][-n_pixels:]])\n",
    "        print('average_left_phase', average_left_phase)\n",
    "        print('average_right_phase', average_right_phase)\n",
    "        average_left_distance = average_left_phase\n",
    "        average_right_phase = average_right_phase\n",
    "    time.sleep(1)"
   ]
  }
 ],
 "metadata": {
  "kernelspec": {
   "display_name": "CTIS",
   "language": "python",
   "name": "python3"
  },
  "language_info": {
   "codemirror_mode": {
    "name": "ipython",
    "version": 3
   },
   "file_extension": ".py",
   "mimetype": "text/x-python",
   "name": "python",
   "nbconvert_exporter": "python",
   "pygments_lexer": "ipython3",
   "version": "3.9.10"
  },
  "orig_nbformat": 4
 },
 "nbformat": 4,
 "nbformat_minor": 2
}
