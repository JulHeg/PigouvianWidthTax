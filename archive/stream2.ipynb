{
 "cells": [
  {
   "cell_type": "code",
   "execution_count": 1,
   "metadata": {},
   "outputs": [],
   "source": [
    "from matplotlib import pyplot as plt\n",
    "from tofpipe.connection.conn_zmq import Client\n",
    "from tofpipe.protocol import protobuf, message\n",
    "import time"
   ]
  },
  {
   "cell_type": "code",
   "execution_count": 23,
   "metadata": {},
   "outputs": [
    {
     "name": "stdout",
     "output_type": "stream",
     "text": [
      "Client Connected\n"
     ]
    }
   ],
   "source": [
    "protocol = protobuf.Protocol()\n",
    "\n",
    "client = Client(protocol=protocol)\n",
    "client.connect(host=\"192.168.1.13\", port=5000)"
   ]
  },
  {
   "cell_type": "code",
   "execution_count": 24,
   "metadata": {},
   "outputs": [],
   "source": [
    "response = client.recv()\n",
    "which = response.response_type\n",
    "print(which)\n",
    "print(response.frame[1])\n",
    "print(response.frame[0])\n",
    "plt.imshow(response.frame[1])\n",
    "plt.show()"
   ]
  },
  {
   "cell_type": "code",
   "execution_count": null,
   "metadata": {},
   "outputs": [],
   "source": []
  },
  {
   "cell_type": "code",
   "execution_count": 18,
   "metadata": {},
   "outputs": [],
   "source": [
    "req = protocol.request()\n",
    "req.exposure = 80\n",
    "\n",
    "client.send(req)"
   ]
  },
  {
   "cell_type": "code",
   "execution_count": 19,
   "metadata": {},
   "outputs": [],
   "source": [
    "def get_frame():\n",
    "    response = client.recv()\n",
    "    which = response.response_type\n",
    "\n",
    "    if which == message.ResponseType.FRAMEDATA:\n",
    "        return response.frame"
   ]
  },
  {
   "cell_type": "code",
   "execution_count": 20,
   "metadata": {},
   "outputs": [],
   "source": [
    "frame = get_frame()\n",
    "if frame[0] == message.FrameType.PHASE:\n",
    "    phase = frame[1]\n",
    "    plt.imshow(phase)"
   ]
  },
  {
   "cell_type": "code",
   "execution_count": 22,
   "metadata": {},
   "outputs": [],
   "source": [
    "client.close()"
   ]
  },
  {
   "cell_type": "code",
   "execution_count": null,
   "metadata": {},
   "outputs": [],
   "source": []
  }
 ],
 "metadata": {
  "kernelspec": {
   "display_name": "raspiQtEnv",
   "language": "python",
   "name": "python3"
  },
  "language_info": {
   "codemirror_mode": {
    "name": "ipython",
    "version": 3
   },
   "file_extension": ".py",
   "mimetype": "text/x-python",
   "name": "python",
   "nbconvert_exporter": "python",
   "pygments_lexer": "ipython3",
   "version": "3.10.9"
  },
  "orig_nbformat": 4
 },
 "nbformat": 4,
 "nbformat_minor": 2
}
