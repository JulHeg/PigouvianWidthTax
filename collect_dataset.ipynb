{
 "cells": [
  {
   "cell_type": "code",
   "execution_count": 2,
   "metadata": {},
   "outputs": [
    {
     "name": "stdout",
     "output_type": "stream",
     "text": [
      "connecting to  192.168.1.13 5000\n",
      "Client Connected\n"
     ]
    }
   ],
   "source": [
    "import numpy as np\n",
    "import tofpipe\n",
    "import matplotlib.pyplot as plt\n",
    "import time\n",
    "from scipy.ndimage import gaussian_filter\n",
    "import queue\n",
    "from skimage.measure import label\n",
    "from scipy import ndimage\n",
    "\n",
    "import numpy as np\n",
    "import ctypes\n",
    "import abc\n",
    "from sys import platform\n",
    "import conn_tcp\n",
    "import math\n",
    "\n",
    "conn = conn_tcp.TCPSocket\n",
    "model = conn(address=\"192.168.1.13\", port=5000, conn_type='zmq')\n",
    "model.open()"
   ]
  },
  {
   "cell_type": "code",
   "execution_count": 6,
   "metadata": {},
   "outputs": [],
   "source": [
    "import os\n",
    "name = 'large_car'\n",
    "folder_path = \"data\\\\\" + name\n",
    "if not os.path.exists(folder_path):\n",
    "    os.makedirs(folder_path)\n",
    "i = 0\n",
    "while True:\n",
    "    resp = input()\n",
    "    if resp == 'q':\n",
    "        break\n",
    "    phase_img, intensity_img, phase_meta, intensity_meta = model.get_image()\n",
    "    i += 1\n",
    "    np.save(folder_path + \"\\\\phase_img_clean\" + str(i) + \".npy\", phase_img)"
   ]
  },
  {
   "cell_type": "code",
   "execution_count": null,
   "metadata": {},
   "outputs": [],
   "source": []
  }
 ],
 "metadata": {
  "kernelspec": {
   "display_name": "raspiQtEnv",
   "language": "python",
   "name": "python3"
  },
  "language_info": {
   "codemirror_mode": {
    "name": "ipython",
    "version": 3
   },
   "file_extension": ".py",
   "mimetype": "text/x-python",
   "name": "python",
   "nbconvert_exporter": "python",
   "pygments_lexer": "ipython3",
   "version": "3.10.9"
  },
  "orig_nbformat": 4
 },
 "nbformat": 4,
 "nbformat_minor": 2
}
